{
 "cells": [
  {
   "cell_type": "code",
   "execution_count": 15,
   "metadata": {},
   "outputs": [],
   "source": [
    "import sys,os,os.path\n",
    "proxy_id = input()\n",
    "proxy_password = input()\n",
    "os.environ['HTTP_PROXY']=f\"http://{}:{}@obprx01.intra.hitachi.co.jp:8080\".format(proxy_id,proxy_password)\n",
    "os.environ['HTTPS_PROXY']=f\"https://{}:{}@obprx01.intra.hitachi.co.jp:8080\".format(proxy_id,proxy_password)\n",
    "requests.get('https://www.google.com/')"
   ]
  },
  {
   "cell_type": "code",
   "execution_count": 1,
   "metadata": {},
   "outputs": [],
   "source": [
    "from bs4 import BeautifulSoup\n",
    "# from nomura.login import NomuraHometradeAccess\n",
    "import requests\n",
    "from getpass import getpass\n",
    "import time\n",
    "import re"
   ]
  },
  {
   "cell_type": "code",
   "execution_count": 4,
   "metadata": {},
   "outputs": [],
   "source": [
    "class  PageAccess:\n",
    "\n",
    "    headers = {\"User-Agent\": \"Mozilla/5.0 (Windows NT 6.1; Win64; x64) AppleWebKit/537.36 (KHTML, like Gecko) Chrome/61.0.3163.100 Safari/537.36)\"}\n",
    "\n",
    "    def  __init__(self):\n",
    "        #初期化\n",
    "        self.loginType = ''\n",
    "        self.btnCd = input('取引店コード（半角）:')\n",
    "        self.kuzNo = input('口座番号（半角）:')\n",
    "        self.gnziLoginPswd = getpass ('ログインパスワード（半角）')\n",
    "        self.loginTuskLoginId = self.btnCd + self.kuzNo\n",
    "        self.data = {'loginType':self.loginType,'btnCd':self.btnCd,'kuzNo':self.kuzNo,'gnziLoginPswd':self.gnziLoginPswd,'loginTuskLoginId':self.loginTuskLoginId}\n",
    "        self.ses = requests.Session()\n",
    "\n",
    "    def login(self,url = 'https://hometrade.nomura.co.jp/web/rmfCmnCauSysLgiAction.do'):\n",
    "\n",
    "        #cookiesを取得する（野村證券の仕様）\n",
    "        # self.cookies = requests.request('get','https://hometrade.nomura.co.jp/web/rmfIndexWebAction.do',headers  = self.headers).cookies\n",
    "        self.ses.request('get','https://hometrade.nomura.co.jp/web/rmfIndexWebAction.do',headers  = self.headers)\n",
    "        #method,url,post_data,headers,cookies\n",
    "        self.req = self.ses.request('post',url,data = self.data,headers = self.headers)\n",
    "        #返却値確認\n",
    "        self.req.raise_for_status()\n",
    "        # check_response(self.req.text)\n",
    "\n",
    "        #エンコードを変更\n",
    "        self.req.encoding = self.req.apparent_encoding\n",
    "        #cookiesを保存\n",
    "        self.cookies = self.req.cookies\n",
    "\n",
    "    def request(self,method,url):\n",
    "        #自由アクセス\n",
    "        return self.ses.request(method,url,headers = self.headers)\n",
    "\n",
    "    def get_text(self):\n",
    "        return self.req.text"
   ]
  },
  {
   "cell_type": "code",
   "execution_count": null,
   "metadata": {},
   "outputs": [],
   "source": [
    "def getStockValues(page_html):\n",
    "    tags = BeautifulSoup(page_html,'html.parser').findAll(\"table\",attrs = {'class':'qik-table qik-grid-24 qik-grid-sd-24'})\n",
    "    if len(tags) >= 2:\n",
    "        value_list = list()\n",
    "        #8 現在値,始値,高値,安値,VWAP,出来高,売買代金,前日終値,\n",
    "        for tag in BeautifulSoup(str(tags[0]),'html.parser').findAll(\"span\",attrs = {'class':'qik-first qik-txt-num'}):\n",
    "            group = re.search('[\\d,\\.-]+',tag.text)\n",
    "            if group:\n",
    "                value_list.append(group.group().replace(',',''))\n",
    "        #12 PER(連結),配当利回り,PER(単独),株式益回り,PBR(連結),ROE(連結),PBR(単独),ROE(単独),発行済株式,時価総額,一株利益(連結),一株利益(単独)\n",
    "        for tag in BeautifulSoup(str(tags[1]),'html.parser').findAll(\"td\",attrs = {'class':'qik-txt-num'}):\n",
    "            group = re.search('[\\d,\\.-]+',tag.text)\n",
    "            if group:\n",
    "                value_list.append(group.group().replace(',',''))\n",
    "\n",
    "        if len(value_list) != 21:\n",
    "            value_list.insert(9,'0')\n",
    "\n",
    "        return value_list\n",
    "\n",
    "def getPerformance(code,page_html):\n",
    "    ret = list()\n",
    "    tag = BeautifulSoup(page_html,'html.parser').find(\"table\",attrs = {'class':'qik-table qik-table-stripe qik-grid-24 qik-grid-sd-24 qik-table-transform'})\n",
    "    if tag:\n",
    "        tags = BeautifulSoup(str(tag),'html.parser').findAll('td')\n",
    "        line = code + ','\n",
    "        for tag in tags:\n",
    "            line +=  tag.text + ','\n",
    "            if tag.attrs['data-title'] == '一株配当金（円）':\n",
    "                ret.append(line)\n",
    "                line = code + ','\n",
    "    tag = BeautifulSoup(page_html,'html.parser').find(\"table\",attrs = {'class':'qik-table qik-grid-24 qik-grid-sd-24 qik-table-transform'})\n",
    "    if tag:\n",
    "        tags = BeautifulSoup(str(tag),'html.parser').findAll('td')\n",
    "        line = code + ','\n",
    "        for tag in tags:\n",
    "            line +=  tag.text + ','\n",
    "            if tag.attrs['data-title'] == '一株配当金（円）':\n",
    "                ret.append(line)\n",
    "                line = code + ','\n",
    "    return ret\n",
    "\n",
    "\n",
    "page_access = PageAccess()\n",
    "page_access.login()\n",
    "with open(r'.\\nomura\\data\\stockValuesData.txt','w',encoding='utf-8') as f:\n",
    "    f.write(column)\n",
    "    with open(r'.\\nomura\\data\\performancedata.txt','w',encoding='utf-8') as f2:\n",
    "        f2.write(column_C)\n",
    "        for code in code_url:\n",
    "            page_html = page_access.request('get',code_url[code]).text\n",
    "            value_list = getStockValues(page_html)\n",
    "            value_list.insert(0,code)\n",
    "            f.write(','.join(value_list))\n",
    "            f.write('\\n')\n",
    "\n",
    "            urls = 'https://hometrade.nomura.co.jp/web/rmfInvInfMulGetG522Action.do?qid=12-05-01&op_para=market=TKY&arg={quote:'+ code +'}&qpc='\n",
    "            page_html = page_access.request('get',urls).text\n",
    "            value_list = getPerformance(code,page_html)\n",
    "            f2.write(','.join(value_list))\n",
    "            f2.write('\\n')"
   ]
  },
  {
   "cell_type": "code",
   "execution_count": 5,
   "metadata": {},
   "outputs": [
    {
     "name": "stdout",
     "output_type": "stream",
     "text": [
      "取引店コード（半角）:939\n",
      "口座番号（半角）:1014790\n",
      "ログインパスワード（半角）········\n"
     ]
    }
   ],
   "source": [
    "page_access = PageAccess()\n",
    "page_access.login()\n",
    "\n",
    "urls = r'https://hometrade.nomura.co.jp/web/rmfInvInfMulGetG522Action.do?qid=12-01-01&op_para=brand={},market=TKY'.format('1301')\n",
    "page = page_access.request('get',urls)"
   ]
  },
  {
   "cell_type": "code",
   "execution_count": 10,
   "metadata": {},
   "outputs": [
    {
     "name": "stdout",
     "output_type": "stream",
     "text": [
      "[]\n"
     ]
    }
   ],
   "source": [
    "print(page.history)"
   ]
  },
  {
   "cell_type": "code",
   "execution_count": null,
   "metadata": {},
   "outputs": [],
   "source": [
    "ret = list()\n",
    "code = '1301'\n",
    "tag = BeautifulSoup(page_html,'html.parser').find(\"table\",attrs = {'class':'qik-table qik-table-stripe qik-grid-24 qik-grid-sd-24 qik-table-transform'})\n",
    "print(tag)\n",
    "if tag:\n",
    "    tags = BeautifulSoup(str(tag),'html.parser').findAll('td')\n",
    "    tags[0]\n",
    "    line = code + ','\n",
    "    for tag in tags:\n",
    "        line +=  (tag.text + ',')\n",
    "        if tag.attrs['data-title'] == '一株配当金（円）':\n",
    "            ret.append(line)\n",
    "            line = code + ','\n",
    "tag = BeautifulSoup(page_html,'html.parser').find(\"table\",attrs = {'class':'qik-table qik-grid-24 qik-grid-sd-24 qik-table-transform'})\n",
    "if tag:\n",
    "    tags = BeautifulSoup(str(tag),'html.parser').findAll('td')\n",
    "    line = code + ','\n",
    "    for tag in tags:\n",
    "        line +=  tag.text + ','\n",
    "        if tag.attrs['data-title'] == '一株配当金（円）':\n",
    "            ret.append(line)\n",
    "            line = code + ','"
   ]
  },
  {
   "cell_type": "code",
   "execution_count": 4,
   "metadata": {},
   "outputs": [
    {
     "data": {
      "text/plain": [
       "'https://hometrade.nomura.co.jp/web/rmfInvInfMulGetG522Action.do?qid=12-01-01&op_para=brand=1301,market=TKY'"
      ]
     },
     "execution_count": 4,
     "metadata": {},
     "output_type": "execute_result"
    }
   ],
   "source": [
    "ret"
   ]
  },
  {
   "cell_type": "code",
   "execution_count": null,
   "metadata": {},
   "outputs": [],
   "source": []
  }
 ],
 "metadata": {
  "kernelspec": {
   "display_name": "Python 3",
   "language": "python",
   "name": "python3"
  },
  "language_info": {
   "codemirror_mode": {
    "name": "ipython",
    "version": 3
   },
   "file_extension": ".py",
   "mimetype": "text/x-python",
   "name": "python",
   "nbconvert_exporter": "python",
   "pygments_lexer": "ipython3",
   "version": "3.7.4"
  }
 },
 "nbformat": 4,
 "nbformat_minor": 2
}
